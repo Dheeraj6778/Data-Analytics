{
 "cells": [
  {
   "cell_type": "code",
   "execution_count": 2,
   "metadata": {},
   "outputs": [],
   "source": [
    "import pandas as pd\n",
    "import numpy as np\n",
    "import matplotlib.pyplot as plt"
   ]
  },
  {
   "cell_type": "markdown",
   "metadata": {},
   "source": [
    "### Data Preprocessing"
   ]
  },
  {
   "cell_type": "code",
   "execution_count": 3,
   "metadata": {},
   "outputs": [],
   "source": [
    "df_movies=pd.read_csv('./ml-latest-small/ml-latest-small/movies.csv')"
   ]
  },
  {
   "cell_type": "code",
   "execution_count": 4,
   "metadata": {},
   "outputs": [
    {
     "data": {
      "text/html": [
       "<div>\n",
       "<style scoped>\n",
       "    .dataframe tbody tr th:only-of-type {\n",
       "        vertical-align: middle;\n",
       "    }\n",
       "\n",
       "    .dataframe tbody tr th {\n",
       "        vertical-align: top;\n",
       "    }\n",
       "\n",
       "    .dataframe thead th {\n",
       "        text-align: right;\n",
       "    }\n",
       "</style>\n",
       "<table border=\"1\" class=\"dataframe\">\n",
       "  <thead>\n",
       "    <tr style=\"text-align: right;\">\n",
       "      <th></th>\n",
       "      <th>movieId</th>\n",
       "      <th>title</th>\n",
       "      <th>genres</th>\n",
       "    </tr>\n",
       "  </thead>\n",
       "  <tbody>\n",
       "    <tr>\n",
       "      <th>0</th>\n",
       "      <td>1</td>\n",
       "      <td>Toy Story (1995)</td>\n",
       "      <td>Adventure|Animation|Children|Comedy|Fantasy</td>\n",
       "    </tr>\n",
       "    <tr>\n",
       "      <th>1</th>\n",
       "      <td>2</td>\n",
       "      <td>Jumanji (1995)</td>\n",
       "      <td>Adventure|Children|Fantasy</td>\n",
       "    </tr>\n",
       "    <tr>\n",
       "      <th>2</th>\n",
       "      <td>3</td>\n",
       "      <td>Grumpier Old Men (1995)</td>\n",
       "      <td>Comedy|Romance</td>\n",
       "    </tr>\n",
       "    <tr>\n",
       "      <th>3</th>\n",
       "      <td>4</td>\n",
       "      <td>Waiting to Exhale (1995)</td>\n",
       "      <td>Comedy|Drama|Romance</td>\n",
       "    </tr>\n",
       "    <tr>\n",
       "      <th>4</th>\n",
       "      <td>5</td>\n",
       "      <td>Father of the Bride Part II (1995)</td>\n",
       "      <td>Comedy</td>\n",
       "    </tr>\n",
       "  </tbody>\n",
       "</table>\n",
       "</div>"
      ],
      "text/plain": [
       "   movieId                               title  \\\n",
       "0        1                    Toy Story (1995)   \n",
       "1        2                      Jumanji (1995)   \n",
       "2        3             Grumpier Old Men (1995)   \n",
       "3        4            Waiting to Exhale (1995)   \n",
       "4        5  Father of the Bride Part II (1995)   \n",
       "\n",
       "                                        genres  \n",
       "0  Adventure|Animation|Children|Comedy|Fantasy  \n",
       "1                   Adventure|Children|Fantasy  \n",
       "2                               Comedy|Romance  \n",
       "3                         Comedy|Drama|Romance  \n",
       "4                                       Comedy  "
      ]
     },
     "execution_count": 4,
     "metadata": {},
     "output_type": "execute_result"
    }
   ],
   "source": [
    "df_movies.head()"
   ]
  },
  {
   "cell_type": "code",
   "execution_count": 5,
   "metadata": {},
   "outputs": [],
   "source": [
    "df_ratings=pd.read_csv('./ml-latest-small/ml-latest-small/ratings.csv')\n"
   ]
  },
  {
   "cell_type": "code",
   "execution_count": 6,
   "metadata": {},
   "outputs": [
    {
     "data": {
      "text/html": [
       "<div>\n",
       "<style scoped>\n",
       "    .dataframe tbody tr th:only-of-type {\n",
       "        vertical-align: middle;\n",
       "    }\n",
       "\n",
       "    .dataframe tbody tr th {\n",
       "        vertical-align: top;\n",
       "    }\n",
       "\n",
       "    .dataframe thead th {\n",
       "        text-align: right;\n",
       "    }\n",
       "</style>\n",
       "<table border=\"1\" class=\"dataframe\">\n",
       "  <thead>\n",
       "    <tr style=\"text-align: right;\">\n",
       "      <th></th>\n",
       "      <th>userId</th>\n",
       "      <th>movieId</th>\n",
       "      <th>rating</th>\n",
       "      <th>timestamp</th>\n",
       "    </tr>\n",
       "  </thead>\n",
       "  <tbody>\n",
       "    <tr>\n",
       "      <th>0</th>\n",
       "      <td>1</td>\n",
       "      <td>1</td>\n",
       "      <td>4.0</td>\n",
       "      <td>964982703</td>\n",
       "    </tr>\n",
       "    <tr>\n",
       "      <th>1</th>\n",
       "      <td>1</td>\n",
       "      <td>3</td>\n",
       "      <td>4.0</td>\n",
       "      <td>964981247</td>\n",
       "    </tr>\n",
       "    <tr>\n",
       "      <th>2</th>\n",
       "      <td>1</td>\n",
       "      <td>6</td>\n",
       "      <td>4.0</td>\n",
       "      <td>964982224</td>\n",
       "    </tr>\n",
       "    <tr>\n",
       "      <th>3</th>\n",
       "      <td>1</td>\n",
       "      <td>47</td>\n",
       "      <td>5.0</td>\n",
       "      <td>964983815</td>\n",
       "    </tr>\n",
       "    <tr>\n",
       "      <th>4</th>\n",
       "      <td>1</td>\n",
       "      <td>50</td>\n",
       "      <td>5.0</td>\n",
       "      <td>964982931</td>\n",
       "    </tr>\n",
       "  </tbody>\n",
       "</table>\n",
       "</div>"
      ],
      "text/plain": [
       "   userId  movieId  rating  timestamp\n",
       "0       1        1     4.0  964982703\n",
       "1       1        3     4.0  964981247\n",
       "2       1        6     4.0  964982224\n",
       "3       1       47     5.0  964983815\n",
       "4       1       50     5.0  964982931"
      ]
     },
     "execution_count": 6,
     "metadata": {},
     "output_type": "execute_result"
    }
   ],
   "source": [
    "df_ratings.head()"
   ]
  },
  {
   "cell_type": "code",
   "execution_count": 7,
   "metadata": {},
   "outputs": [],
   "source": [
    "transactional_dataset = df_ratings[df_ratings['rating']>2]"
   ]
  },
  {
   "cell_type": "code",
   "execution_count": 32,
   "metadata": {},
   "outputs": [],
   "source": [
    "data_set={}\n",
    "for userid in transactional_dataset['userId'].unique():\n",
    "    if userid not in data_set:\n",
    "        data_set[userid]=set()\n",
    "    temp_df=transactional_dataset[transactional_dataset['userId']==userid]\n",
    "    for i in range(len(temp_df)):\n",
    "        data_set[userid].add(temp_df.iloc[i]['movieId'])\n",
    "    if len(data_set[userid])<=10:\n",
    "        del data_set[userid]"
   ]
  },
  {
   "cell_type": "code",
   "execution_count": 35,
   "metadata": {},
   "outputs": [],
   "source": [
    "import random\n",
    "training_set={}\n",
    "testing_set={}\n",
    "for key in data_set.keys():\n",
    "    lst=list(data_set[key])\n",
    "    n=len(lst)\n",
    "    train_len=int(n*0.8)\n",
    "    test_len=n-train_len\n",
    "    random.shuffle(lst)\n",
    "    if key not in training_set:\n",
    "        training_set[key]=set()\n",
    "        train_lst=set(lst[:train_len])\n",
    "        training_set[key]=train_lst\n",
    "    if key not in testing_set:\n",
    "        testing_set[key]=set()\n",
    "        test_lst=set(lst[train_len:])\n",
    "        testing_set[key]=test_lst\n"
   ]
  },
  {
   "cell_type": "markdown",
   "metadata": {},
   "source": [
    "### Association Rule Mining"
   ]
  },
  {
   "cell_type": "code",
   "execution_count": 37,
   "metadata": {},
   "outputs": [],
   "source": [
    "dummy={1:{1,2,5},2:{2,4},3:{2,3},4:{1,2,4},5:{1,3},6:{2,3},7:{1,3},8:{1,2,3,5},9:{1,2,3}}"
   ]
  },
  {
   "cell_type": "code",
   "execution_count": 41,
   "metadata": {},
   "outputs": [
    {
     "data": {
      "text/plain": [
       "{1: {1, 2, 5},\n",
       " 2: {2, 4},\n",
       " 3: {2, 3},\n",
       " 4: {1, 2, 4},\n",
       " 5: {1, 3},\n",
       " 6: {2, 3},\n",
       " 7: {1, 3},\n",
       " 8: {1, 2, 3, 5},\n",
       " 9: {1, 2, 3}}"
      ]
     },
     "execution_count": 41,
     "metadata": {},
     "output_type": "execute_result"
    }
   ],
   "source": [
    "dummy"
   ]
  },
  {
   "cell_type": "code",
   "execution_count": 143,
   "metadata": {},
   "outputs": [],
   "source": [
    "min_sup=2 \n",
    "min_conf=0.1"
   ]
  },
  {
   "cell_type": "code",
   "execution_count": 42,
   "metadata": {},
   "outputs": [
    {
     "name": "stdout",
     "output_type": "stream",
     "text": [
      "{1: 6, 2: 7, 5: 2, 4: 2, 3: 6}\n"
     ]
    }
   ],
   "source": [
    "L={}\n",
    "for key in dummy.keys():\n",
    "    se=dummy[key]\n",
    "    for val in se:\n",
    "        if val not in L:\n",
    "            L[val]=1\n",
    "        else:\n",
    "            L[val]+=1\n",
    "print(L)\n"
   ]
  },
  {
   "cell_type": "code",
   "execution_count": 43,
   "metadata": {},
   "outputs": [
    {
     "name": "stdout",
     "output_type": "stream",
     "text": [
      "{2: 7, 1: 6, 3: 6, 5: 2, 4: 2}\n"
     ]
    }
   ],
   "source": [
    "#now we need to sort the dictionary in descending order\n",
    "L = dict(sorted(L.items(),key=lambda item: item[1],reverse=True))\n",
    "print(L)"
   ]
  },
  {
   "cell_type": "code",
   "execution_count": 114,
   "metadata": {},
   "outputs": [],
   "source": [
    "class TreeNode:\n",
    "    def __init__(self,id=-1,cnt=0):\n",
    "        self.id=id\n",
    "        self.cnt=cnt\n",
    "        self.pointers={} #stores key id and value is reference to a node \n",
    "\n",
    "    def check(self,node):\n",
    "        if node not in self.pointers:\n",
    "            return False\n",
    "        return True\n",
    "    def get(self,node):\n",
    "        return self.pointers[node]\n",
    "    "
   ]
  },
  {
   "cell_type": "code",
   "execution_count": 145,
   "metadata": {},
   "outputs": [],
   "source": [
    "class Tree:\n",
    "    def __init__(self):\n",
    "        self.root=TreeNode()\n",
    "        self.par={} # node to node\n",
    "        self.dic={}\n",
    "    def insert(self,lst,inc=1):\n",
    "        temp=self.root\n",
    "        prev=None\n",
    "        for x in lst:\n",
    "            if temp.check(x)==False:\n",
    "                temp.pointers[x]=TreeNode(x,0)\n",
    "            self.par[temp]=prev\n",
    "            prev=temp\n",
    "            temp=temp.get(x)\n",
    "            if temp.id not in self.dic:\n",
    "                self.dic[temp.id]=set()\n",
    "            self.dic[temp.id].add(temp)\n",
    "            temp.cnt+=inc\n",
    "    def show(self,root):\n",
    "        for key in root.pointers.keys():\n",
    "            temp=root.pointers[key]\n",
    "            st=\"id \"+str(temp.id)+\" \"+\"cnt \"+str(temp.cnt)\n",
    "            print(st)\n",
    "            self.show(temp)\n",
    "\n",
    "    def helper_path(self,node,path,item,ans):\n",
    "        if node.id==item:\n",
    "            ans[tuple(path)]=node.cnt\n",
    "            return\n",
    "        for key,value in node.pointers.items():\n",
    "            path.append(key)\n",
    "            self.helper_path(value,path,item,ans)\n",
    "            path.pop()\n",
    "\n",
    "    def get_paths(self,item):\n",
    "        #gets paths to that node\n",
    "        ans={} # key is set and value is cnt\n",
    "        temp=self.root\n",
    "        path=[]\n",
    "        for key in temp.pointers.keys():\n",
    "            path.append(key)\n",
    "            self.helper_path(temp.pointers[key],path,item,ans)\n",
    "            path.pop()\n",
    "        return ans\n",
    "            \n",
    "    def print_par(self):\n",
    "        for key,val in self.par.items():\n",
    "            if key is not None and val is not None:\n",
    "                print(key.id,val.id)\n",
    "    "
   ]
  },
  {
   "cell_type": "code",
   "execution_count": 146,
   "metadata": {},
   "outputs": [
    {
     "name": "stdout",
     "output_type": "stream",
     "text": [
      "id 2 cnt 7\n",
      "id 1 cnt 4\n",
      "id 5 cnt 1\n",
      "id 4 cnt 1\n",
      "id 3 cnt 2\n",
      "id 5 cnt 1\n",
      "id 4 cnt 1\n",
      "id 3 cnt 2\n",
      "id 1 cnt 2\n",
      "id 3 cnt 2\n"
     ]
    }
   ],
   "source": [
    "#create a root node\n",
    "tree=Tree()\n",
    "#now iterate through the transactions (ie dummy) and insert the items in the order of L\n",
    "order_of_insertion=list(L.keys())\n",
    "#print(order_of_insertion)\n",
    "for key,values in dummy.items():\n",
    "    # insert the values in the values in the order of L\n",
    "    lst=list(values)\n",
    "    ordered_lst=sorted(lst,key=lambda x: order_of_insertion.index(x))\n",
    "    #print(ordered_lst)\n",
    "    tree.insert(ordered_lst)\n",
    "\n",
    "tree.show(tree.root)"
   ]
  },
  {
   "cell_type": "code",
   "execution_count": 152,
   "metadata": {},
   "outputs": [
    {
     "name": "stdout",
     "output_type": "stream",
     "text": [
      "for item  4\n",
      "id 2 cnt 2\n",
      "for item  5\n",
      "id 2 cnt 2\n",
      "id 1 cnt 2\n",
      "for item  3\n",
      "id 2 cnt 4\n",
      "id 1 cnt 2\n",
      "id 1 cnt 2\n",
      "for item  1\n",
      "id 2 cnt 4\n",
      "for item  2\n"
     ]
    }
   ],
   "source": [
    "# now creating conditional pattern base\n",
    "# so for every path ending with item push the path into a list\n",
    "def build_L(conditional_pattern_base):\n",
    "    L_conditional={}\n",
    "    def fill_L(itemset,sup_count):\n",
    "        for item in itemset:\n",
    "            if item not in L_conditional:\n",
    "                L_conditional[item]=sup_count\n",
    "            else:\n",
    "                L_conditional[item]+=sup_count\n",
    "\n",
    "    for itemset,sup_count in conditional_pattern_base.items():\n",
    "        lst=list(itemset)\n",
    "        lst.pop()\n",
    "        fill_L(lst,sup_count)\n",
    "    keys_to_delete=[]\n",
    "    for key, cnt in L_conditional.items():\n",
    "        if cnt<min_sup:\n",
    "            keys_to_delete.append(key)\n",
    "    for key in keys_to_delete:\n",
    "        if key in L_conditional:\n",
    "            del L_conditional[key]\n",
    "    return L_conditional\n",
    "\n",
    "temp_lst=list(L.keys())\n",
    "for item in reversed(temp_lst):\n",
    "    #for the item \n",
    "    conditional_pattern_base=tree.get_paths(item)\n",
    "    L_conditional=build_L(conditional_pattern_base)\n",
    "    #now sort the L in descending order\n",
    "    L_conditional = dict(sorted(L_conditional.items(),key=lambda item: item[1],reverse=True))\n",
    "    order_of_insertion=list(L_conditional.keys())\n",
    "    tree_conditional=Tree()\n",
    "    for itemset,sup_count in conditional_pattern_base.items():\n",
    "        lst=list(itemset)\n",
    "        lst.pop()\n",
    "        for x in lst:\n",
    "            if x not in order_of_insertion:\n",
    "                lst.remove(x)\n",
    "        ordered_lst=sorted(lst,key=lambda x: order_of_insertion.index(x))\n",
    "        tree_conditional.insert(lst,sup_count)\n",
    "    #print(L_conditional)\n",
    "    print(\"for item \",item)\n",
    "    tree_conditional.show(tree_conditional.root)\n",
    "\n",
    "    #after building the tree we need to extract frequent patterns\n",
    "    \n"
   ]
  },
  {
   "cell_type": "code",
   "execution_count": null,
   "metadata": {},
   "outputs": [],
   "source": []
  }
 ],
 "metadata": {
  "kernelspec": {
   "display_name": "Python 3",
   "language": "python",
   "name": "python3"
  },
  "language_info": {
   "codemirror_mode": {
    "name": "ipython",
    "version": 3
   },
   "file_extension": ".py",
   "mimetype": "text/x-python",
   "name": "python",
   "nbconvert_exporter": "python",
   "pygments_lexer": "ipython3",
   "version": "3.11.4"
  },
  "orig_nbformat": 4
 },
 "nbformat": 4,
 "nbformat_minor": 2
}
