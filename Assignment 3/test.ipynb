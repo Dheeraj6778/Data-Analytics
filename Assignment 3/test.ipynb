{
 "cells": [
  {
   "cell_type": "code",
   "execution_count": 213,
   "metadata": {},
   "outputs": [],
   "source": [
    "import pandas as pd\n",
    "import numpy as np"
   ]
  },
  {
   "cell_type": "code",
   "execution_count": 214,
   "metadata": {},
   "outputs": [
    {
     "data": {
      "text/html": [
       "<div>\n",
       "<style scoped>\n",
       "    .dataframe tbody tr th:only-of-type {\n",
       "        vertical-align: middle;\n",
       "    }\n",
       "\n",
       "    .dataframe tbody tr th {\n",
       "        vertical-align: top;\n",
       "    }\n",
       "\n",
       "    .dataframe thead th {\n",
       "        text-align: right;\n",
       "    }\n",
       "</style>\n",
       "<table border=\"1\" class=\"dataframe\">\n",
       "  <thead>\n",
       "    <tr style=\"text-align: right;\">\n",
       "      <th></th>\n",
       "      <th>A</th>\n",
       "      <th>B</th>\n",
       "      <th>C</th>\n",
       "      <th>D</th>\n",
       "    </tr>\n",
       "  </thead>\n",
       "  <tbody>\n",
       "    <tr>\n",
       "      <th>0</th>\n",
       "      <td>a1</td>\n",
       "      <td>b1</td>\n",
       "      <td>c3</td>\n",
       "      <td>d1</td>\n",
       "    </tr>\n",
       "    <tr>\n",
       "      <th>1</th>\n",
       "      <td>a1</td>\n",
       "      <td>b5</td>\n",
       "      <td>c1</td>\n",
       "      <td>d2</td>\n",
       "    </tr>\n",
       "    <tr>\n",
       "      <th>2</th>\n",
       "      <td>a1</td>\n",
       "      <td>b2</td>\n",
       "      <td>c5</td>\n",
       "      <td>d2</td>\n",
       "    </tr>\n",
       "    <tr>\n",
       "      <th>3</th>\n",
       "      <td>a2</td>\n",
       "      <td>b2</td>\n",
       "      <td>c2</td>\n",
       "      <td>d2</td>\n",
       "    </tr>\n",
       "    <tr>\n",
       "      <th>4</th>\n",
       "      <td>a2</td>\n",
       "      <td>b2</td>\n",
       "      <td>c2</td>\n",
       "      <td>d4</td>\n",
       "    </tr>\n",
       "  </tbody>\n",
       "</table>\n",
       "</div>"
      ],
      "text/plain": [
       "    A   B   C   D\n",
       "0  a1  b1  c3  d1\n",
       "1  a1  b5  c1  d2\n",
       "2  a1  b2  c5  d2\n",
       "3  a2  b2  c2  d2\n",
       "4  a2  b2  c2  d4"
      ]
     },
     "execution_count": 214,
     "metadata": {},
     "output_type": "execute_result"
    }
   ],
   "source": [
    "df = pd.read_csv('sample.csv')\n",
    "df.head()"
   ]
  },
  {
   "cell_type": "code",
   "execution_count": 215,
   "metadata": {},
   "outputs": [],
   "source": [
    "dim = df.columns.tolist()"
   ]
  },
  {
   "cell_type": "code",
   "execution_count": 219,
   "metadata": {},
   "outputs": [],
   "source": [
    "ans = set()"
   ]
  },
  {
   "cell_type": "code",
   "execution_count": 220,
   "metadata": {},
   "outputs": [],
   "source": [
    "\n",
    "# def fun(cols,target):\n",
    "#     for i in range(len(cols)):\n",
    "#         if cols[i]==target:\n",
    "#             return i\n",
    "#     return -1\n",
    "\n",
    "# def buc(df,dim,row):\n",
    "#     #base case\n",
    "#     if len(dim)==0:\n",
    "#         #print(\"len 0\")\n",
    "#         if len(df)>=2:\n",
    "#             row[len(row)-1]=len(df)\n",
    "#             #print(row)\n",
    "#             ans.add(tuple(row))\n",
    "#             row[len(row)-1]=0\n",
    "#         return\n",
    "\n",
    "#     first_attr=dim[0]\n",
    "#     remaining=dim[1:]\n",
    "#     # loop through the unique rows\n",
    "#     for attr in df[first_attr].unique():\n",
    "#         partial_df = df[df[first_attr]==attr]\n",
    "#         # print(partial_df)\n",
    "#         if len(partial_df)>=2:\n",
    "#             row[fun(df.columns,first_attr)] = attr\n",
    "#             row[len(row)-1]=len(partial_df)\n",
    "#             copy_row=list(row)\n",
    "#             #print(row)\n",
    "#             ans.add(tuple(row))\n",
    "#             buc(partial_df,remaining,copy_row)\n",
    "#             row[fun(df.columns,first_attr)] = '*'\n",
    "#             row[len(row)-1]=0\n",
    "\n",
    "# lst = [(i,len(df[i].unique())) for i in dim]\n",
    "# lst.sort(key=lambda x:x[1])\n",
    "# dim = [i[0] for i in lst]\n",
    "# row = ['*','*','*','*',0]\n",
    "# #buc(df,dim,row)\n",
    "    "
   ]
  },
  {
   "cell_type": "code",
   "execution_count": 221,
   "metadata": {},
   "outputs": [],
   "source": [
    "from itertools import permutations\n",
    "permuted_list = list(permutations(lst))\n",
    "for x in permuted_list:\n",
    "    dim=[i[0] for i in x]\n",
    "    row = ['*','*','*','*',0]\n",
    "    buc(df,dim,row)"
   ]
  },
  {
   "cell_type": "code",
   "execution_count": 222,
   "metadata": {},
   "outputs": [
    {
     "name": "stdout",
     "output_type": "stream",
     "text": [
      "('a2', 'b2', '*', '*', 3)\n",
      "('*', 'b2', 'c2', '*', 2)\n",
      "('a2', 'b2', 'c2', '*', 2)\n",
      "('a2', '*', 'c2', '*', 3)\n",
      "('a1', '*', '*', '*', 3)\n",
      "('a2', 'b2', '*', 'd2', 2)\n",
      "('a2', '*', '*', 'd2', 2)\n",
      "('*', 'b2', '*', '*', 4)\n",
      "('a1', '*', '*', 'd2', 2)\n",
      "('*', '*', 'c2', '*', 3)\n",
      "('*', 'b2', '*', 'd2', 3)\n",
      "('a2', '*', '*', '*', 4)\n",
      "('*', '*', '*', 'd2', 5)\n"
     ]
    }
   ],
   "source": [
    "for x in ans:\n",
    "    print(x)"
   ]
  },
  {
   "cell_type": "code",
   "execution_count": null,
   "metadata": {},
   "outputs": [],
   "source": [
    "# hashMap = {}\n",
    "\n",
    "# def fun(cols,target):\n",
    "#     for i in range(len(cols)):\n",
    "#         if cols[i]==target:\n",
    "#             return i\n",
    "#     return -1\n",
    "\n",
    "# def buc(df,dim,row):\n",
    "#     #base case\n",
    "#     if len(dim)==0:\n",
    "#         #print(\"len 0\")\n",
    "#         if len(df)>=2:\n",
    "#             row[len(row)-1]=len(df)\n",
    "#             #print(row)\n",
    "#             ans.add(tuple(row))\n",
    "#             row[len(row)-1]=0\n",
    "#         return\n",
    "\n",
    "#     first_attr=dim[0]\n",
    "#     remaining=dim[1:]\n",
    "#     # loop through the unique rows\n",
    "#     for attr in df[first_attr].unique():\n",
    "#         partial_df = df[df[first_attr]==attr]\n",
    "#         # print(partial_df)\n",
    "#         if len(partial_df)>=2:\n",
    "#             row[fun(df.columns,first_attr)] = attr\n",
    "#             row[len(row)-1]=len(partial_df)\n",
    "#             copy_row=list(row)\n",
    "#             copy_row.pop()\n",
    "#             hashMap[tuple(copy_row)] += len(partial_df)\n",
    "#             #print(row)\n",
    "#             ans.add(tuple(row))\n",
    "#             buc(partial_df,remaining,copy_row)\n",
    "#             row[fun(df.columns,first_attr)] = '*'\n",
    "#             row[len(row)-1]=0\n",
    "\n",
    "# lst = [(i,len(df[i].unique())) for i in dim]\n",
    "# lst.sort(key=lambda x:x[1])\n",
    "# dim = [i[0] for i in lst]\n",
    "# row = ['*','*','*','*',0]\n",
    "# #buc(df,dim,row)\n",
    "    "
   ]
  },
  {
   "cell_type": "code",
   "execution_count": null,
   "metadata": {},
   "outputs": [],
   "source": []
  }
 ],
 "metadata": {
  "kernelspec": {
   "display_name": "Python 3",
   "language": "python",
   "name": "python3"
  },
  "language_info": {
   "codemirror_mode": {
    "name": "ipython",
    "version": 3
   },
   "file_extension": ".py",
   "mimetype": "text/x-python",
   "name": "python",
   "nbconvert_exporter": "python",
   "pygments_lexer": "ipython3",
   "version": "3.11.4"
  },
  "orig_nbformat": 4
 },
 "nbformat": 4,
 "nbformat_minor": 2
}
